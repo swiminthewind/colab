{
  "nbformat": 4,
  "nbformat_minor": 0,
  "metadata": {
    "colab": {
      "provenance": [],
      "authorship_tag": "ABX9TyN76UFmLqColdAcGPZW9/5K",
      "include_colab_link": true
    },
    "kernelspec": {
      "name": "python3",
      "display_name": "Python 3"
    },
    "language_info": {
      "name": "python"
    }
  },
  "cells": [
    {
      "cell_type": "markdown",
      "metadata": {
        "id": "view-in-github",
        "colab_type": "text"
      },
      "source": [
        "<a href=\"https://colab.research.google.com/github/swiminthewind/colab/blob/main/231122-%E6%B5%8B%E8%AF%95python%E7%89%88%E5%9B%9B%E9%98%B6%E8%B0%90%E6%B3%A2%E7%9A%84%E6%AD%A3%E7%A1%AE%E6%80%A7.ipynb\" target=\"_parent\"><img src=\"https://colab.research.google.com/assets/colab-badge.svg\" alt=\"Open In Colab\"/></a>"
      ]
    },
    {
      "cell_type": "code",
      "execution_count": null,
      "metadata": {
        "id": "wYxVvpQNbwZN"
      },
      "outputs": [],
      "source": [
        "import ee\n",
        "ee.Authenticate()\n",
        "ee.Initialize()"
      ]
    },
    {
      "cell_type": "code",
      "source": [
        "import pandas as pd\n",
        "import math\n",
        "from sklearn.metrics import mean_squared_error, mean_absolute_error, r2_score\n",
        "import numpy as np"
      ],
      "metadata": {
        "id": "ZIX_S61Ob4wM"
      },
      "execution_count": 2,
      "outputs": []
    },
    {
      "cell_type": "code",
      "source": [
        "roi = ee.FeatureCollection(\"projects/ee-grn/assets/cd_plain_cd\")\n",
        "csPlus= ee.ImageCollection(\"GOOGLE/CLOUD_SCORE_PLUS/V1/S2_HARMONIZED\")\n",
        "s2sr = ee.ImageCollection(\"COPERNICUS/S2_SR_HARMONIZED\")"
      ],
      "metadata": {
        "id": "0htglBPBb67W"
      },
      "execution_count": 3,
      "outputs": []
    },
    {
      "cell_type": "code",
      "source": [
        "timeField = 'system:time_start'\n",
        "QA_BAND = 'cs'\n",
        "CLEAR_THRESHOLD = 0.6\n",
        "\n",
        "def cloud_remove(img):\n",
        "    return img.updateMask(img.select(QA_BAND).gte(CLEAR_THRESHOLD)).select('.*').copyProperties(img, ['system:time_start'])\n",
        "\n",
        "composite = s2sr.filterBounds(roi).filterDate('2022-01-01','2023-11-22').linkCollection(csPlus,[QA_BAND]).map(cloud_remove)\n",
        "\n",
        "def s2addVariables(image):\n",
        "  date = ee.Date(image.get(timeField))\n",
        "  years = date.difference(ee.Date('1970-01-01'), 'year')\n",
        "  return image.addBands(image.normalizedDifference(['B8', 'B4']).rename('NDVI')).addBands(ee.Image(years).rename('t')).float().addBands(ee.Image.constant(1))\n",
        "\n",
        "filteredSentinel = composite.map(s2addVariables)\n",
        "print(filteredSentinel.size().getInfo())"
      ],
      "metadata": {
        "colab": {
          "base_uri": "https://localhost:8080/"
        },
        "id": "fkN0Dx2Xb8cF",
        "outputId": "d75a2431-2a14-4f63-f9b1-0d8e30274d0a"
      },
      "execution_count": 4,
      "outputs": [
        {
          "output_type": "stream",
          "name": "stdout",
          "text": [
            "1245\n"
          ]
        }
      ]
    },
    {
      "cell_type": "code",
      "source": [
        "dataset = filteredSentinel.select(['NDVI','t','constant'])\n",
        "independents = ee.List(['constant', 't'])\n",
        "dependent = ee.String('NDVI')"
      ],
      "metadata": {
        "id": "S1SVlkEYb9p5"
      },
      "execution_count": 5,
      "outputs": []
    },
    {
      "cell_type": "code",
      "source": [
        "# 二阶谐波\n",
        "harmonicIndependents_4 = ee.List(['constant', 't', 'cos1', 'sin1', 'cos2', 'sin2', 'cos3', 'sin3', 'cos4', 'sin4'])\n",
        "\n",
        "def add_sincos_4(image):\n",
        "  timeRadians1 = image.select('t').multiply(2 * math.pi)\n",
        "  timeRadians2 = image.select('t').multiply(4 * math.pi)\n",
        "  timeRadians3 = image.select('t').multiply(6 * math.pi)\n",
        "  timeRadians4 = image.select('t').multiply(8 * math.pi)\n",
        "  return image.addBands(timeRadians1.cos().rename('cos1')).addBands(timeRadians1.sin().rename('sin1')).addBands(timeRadians2.cos().rename('cos2')).addBands(timeRadians2.sin().rename('sin2')).addBands(timeRadians3.cos().rename('cos3')).addBands(timeRadians3.sin().rename('sin3')).addBands(timeRadians4.cos().rename('cos4')).addBands(timeRadians4.sin().rename('sin4'))\n",
        "\n",
        "harmonicSentinel_4 = dataset.map(add_sincos_4)\n",
        "\n",
        "harmonicTrend_4 = harmonicSentinel_4.select(harmonicIndependents_4.add(dependent)).reduce(ee.Reducer.linearRegression(numX=harmonicIndependents_4.length(),numY=1))\n",
        "\n",
        "harmonicTrendCoefficients_4 = harmonicTrend_4.select('coefficients').arrayProject([0]).arrayFlatten([harmonicIndependents_4])\n",
        "\n",
        "def fit_4(image):\n",
        "  return image.addBands(image.select(harmonicIndependents_4).multiply(harmonicTrendCoefficients_4).reduce('sum').rename('fitted'))\n",
        "\n",
        "fittedHarmonic_4 = harmonicSentinel_4.map(fit_4)"
      ],
      "metadata": {
        "id": "pExD2ygtcCRD"
      },
      "execution_count": 10,
      "outputs": []
    },
    {
      "cell_type": "code",
      "source": [
        "point = ee.Geometry.Point(103.69442853431933, 30.551562081391808)\n",
        "\n",
        "rTable = ee.FeatureCollection(fittedHarmonic_4.filterBounds(point).map(lambda image: ee.Feature(\n",
        "    None,\n",
        "    {\n",
        "        'date': image.date().format('yyyy-MM-dd'),\n",
        "        'NDVI': image.reduceRegion(ee.Reducer.mean(), point, 10).get(\"NDVI\"),\n",
        "        'fitted': image.reduceRegion(ee.Reducer.mean(), point, 10).get(\"fitted\")\n",
        "    }\n",
        ")))\n",
        "\n",
        "rTable_dict = rTable.getInfo()\n",
        "\n",
        "dates = [feat['properties']['date'] for feat in rTable_dict['features']]\n",
        "ndvi_values = [feat['properties']['NDVI'] for feat in rTable_dict['features']]\n",
        "fitted_values = [feat['properties']['fitted'] for feat in rTable_dict['features']]\n",
        "\n",
        "df = pd.DataFrame({'Date': dates, 'NDVI': ndvi_values, 'Fitted': fitted_values})\n",
        "\n",
        "df = df.dropna()\n",
        "\n",
        "print(df)"
      ],
      "metadata": {
        "colab": {
          "base_uri": "https://localhost:8080/"
        },
        "id": "YQoY2rzicglV",
        "outputId": "68c474ca-7562-47a3-97c3-83bf3a7a0221"
      },
      "execution_count": 11,
      "outputs": [
        {
          "output_type": "stream",
          "name": "stdout",
          "text": [
            "           Date      NDVI    Fitted\n",
            "0    2022-01-01  0.480345  0.630368\n",
            "11   2022-01-29  0.638256  0.576085\n",
            "17   2022-02-13  0.727610  0.602311\n",
            "25   2022-03-05  0.589392  0.694511\n",
            "26   2022-03-07  0.687620  0.701744\n",
            "27   2022-03-10  0.715548  0.710381\n",
            "29   2022-03-15  0.706660  0.717214\n",
            "30   2022-03-17  0.713792  0.716877\n",
            "39   2022-04-09  0.631566  0.570115\n",
            "43   2022-04-19  0.521598  0.447304\n",
            "44   2022-04-21  0.573421  0.422154\n",
            "46   2022-04-26  0.480552  0.361412\n",
            "49   2022-05-04  0.220395  0.279772\n",
            "51   2022-05-09  0.178203  0.244097\n",
            "54   2022-05-16  0.197687  0.219465\n",
            "71   2022-06-28  0.618742  0.593569\n",
            "74   2022-07-05  0.619651  0.666791\n",
            "75   2022-07-08  0.668581  0.693438\n",
            "81   2022-07-23  0.735616  0.774721\n",
            "82   2022-07-25  0.686726  0.779002\n",
            "83   2022-07-28  0.771458  0.782778\n",
            "87   2022-08-07  0.763696  0.774587\n",
            "88   2022-08-09  0.751144  0.769632\n",
            "89   2022-08-12  0.808487  0.760363\n",
            "93   2022-08-22  0.608793  0.716237\n",
            "99   2022-09-06  0.694187  0.620493\n",
            "117  2022-10-21  0.278708  0.317782\n",
            "118  2022-10-23  0.315167  0.314434\n",
            "130  2022-11-22  0.557020  0.445678\n",
            "140  2022-12-17  0.687886  0.625560\n",
            "148  2023-01-06  0.592233  0.640524\n",
            "153  2023-01-19  0.590771  0.608491\n",
            "157  2023-01-29  0.653929  0.593416\n",
            "170  2023-03-05  0.644836  0.710802\n",
            "179  2023-03-27  0.690342  0.703555\n",
            "184  2023-04-09  0.527609  0.590097\n",
            "185  2023-04-11  0.522106  0.567083\n",
            "187  2023-04-19  0.494830  0.467619\n",
            "191  2023-04-29  0.326017  0.347709\n",
            "193  2023-05-04  0.237905  0.299082\n",
            "198  2023-05-16  0.148362  0.237030\n",
            "213  2023-06-23  0.640330  0.548184\n",
            "218  2023-07-05  0.724054  0.681745\n",
            "219  2023-07-08  0.789816  0.708650\n",
            "223  2023-07-18  0.767826  0.773549\n",
            "225  2023-07-23  0.754725  0.791341\n",
            "227  2023-07-28  0.855568  0.799830\n",
            "231  2023-08-07  0.814029  0.792363\n",
            "234  2023-08-14  0.718354  0.771280\n",
            "239  2023-08-27  0.800524  0.706458\n",
            "242  2023-09-03  0.733998  0.660932\n",
            "243  2023-09-03  0.660409  0.660932\n",
            "247  2023-09-13  0.529412  0.586191\n",
            "248  2023-09-13  0.577901  0.586191\n",
            "263  2023-10-21  0.314508  0.335536\n",
            "269  2023-11-05  0.352727  0.348981\n",
            "270  2023-11-07  0.312435  0.357618\n"
          ]
        }
      ]
    }
  ]
}