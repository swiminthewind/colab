{
  "nbformat": 4,
  "nbformat_minor": 0,
  "metadata": {
    "colab": {
      "provenance": [],
      "include_colab_link": true
    },
    "kernelspec": {
      "name": "python3",
      "display_name": "Python 3"
    },
    "language_info": {
      "name": "python"
    }
  },
  "cells": [
    {
      "cell_type": "markdown",
      "metadata": {
        "id": "view-in-github",
        "colab_type": "text"
      },
      "source": [
        "<a href=\"https://colab.research.google.com/github/swiminthewind/colab/blob/main/231124-%E5%88%92%E5%88%86%E6%B5%8B%E8%AF%95%E5%92%8C%E9%AA%8C%E8%AF%81%E6%89%93%E5%8D%B0%E4%B8%80%E4%B8%AA%E7%82%B9df.ipynb\" target=\"_parent\"><img src=\"https://colab.research.google.com/assets/colab-badge.svg\" alt=\"Open In Colab\"/></a>"
      ]
    },
    {
      "cell_type": "code",
      "execution_count": null,
      "metadata": {
        "id": "sPZZW3_T6pAr"
      },
      "outputs": [],
      "source": [
        "import ee\n",
        "ee.Authenticate()\n",
        "ee.Initialize()"
      ]
    },
    {
      "cell_type": "code",
      "source": [
        "import pandas as pd\n",
        "import math\n",
        "from sklearn.metrics import mean_squared_error, mean_absolute_error, r2_score\n",
        "import numpy as np"
      ],
      "metadata": {
        "id": "ROqeFMBO7cA8"
      },
      "execution_count": 2,
      "outputs": []
    },
    {
      "cell_type": "code",
      "source": [
        "roi = ee.FeatureCollection(\"projects/ee-grn/assets/cd_plain_cd\")\n",
        "csPlus= ee.ImageCollection(\"GOOGLE/CLOUD_SCORE_PLUS/V1/S2_HARMONIZED\")\n",
        "s2sr = ee.ImageCollection(\"COPERNICUS/S2_SR_HARMONIZED\")"
      ],
      "metadata": {
        "id": "a3mHk-CS780_"
      },
      "execution_count": 3,
      "outputs": []
    },
    {
      "cell_type": "markdown",
      "source": [
        "# 筛选Sentinel-2影像"
      ],
      "metadata": {
        "id": "Q5RTljXLUFzO"
      }
    },
    {
      "cell_type": "code",
      "source": [
        "timeField = 'system:time_start'\n",
        "QA_BAND = 'cs'\n",
        "CLEAR_THRESHOLD = 0.6\n",
        "\n",
        "def cloud_remove(img):\n",
        "    return img.updateMask(img.select(QA_BAND).gte(CLEAR_THRESHOLD)).select('.*').copyProperties(img, ['system:time_start'])\n",
        "\n",
        "composite = s2sr.filterBounds(roi).filterDate('2022-01-01','2023-05-01').linkCollection(csPlus,[QA_BAND]).map(cloud_remove)\n",
        "\n",
        "def s2addVariables(image):\n",
        "  date = ee.Date(image.get(timeField))\n",
        "  years = date.difference(ee.Date('1970-01-01'), 'year')\n",
        "  return image.addBands(image.normalizedDifference(['B8', 'B4']).rename('NDVI')).addBands(ee.Image(years).rename('t')).float().addBands(ee.Image.constant(1))\n",
        "\n",
        "filteredSentinel = composite.map(s2addVariables)\n",
        "print(filteredSentinel.size().getInfo())"
      ],
      "metadata": {
        "colab": {
          "base_uri": "https://localhost:8080/"
        },
        "id": "rtABgvEA9haQ",
        "outputId": "65febc42-cee0-4abd-d955-08d89a7cc255"
      },
      "execution_count": 4,
      "outputs": [
        {
          "output_type": "stream",
          "name": "stdout",
          "text": [
            "873\n"
          ]
        }
      ]
    },
    {
      "cell_type": "markdown",
      "source": [
        "# HANTS"
      ],
      "metadata": {
        "id": "HUrndAC2ULFB"
      }
    },
    {
      "cell_type": "code",
      "source": [
        "dataset = filteredSentinel.select(['NDVI','t','constant'])\n",
        "independents = ee.List(['constant', 't'])\n",
        "dependent = ee.String('NDVI')"
      ],
      "metadata": {
        "id": "44l2rV2oWP3O"
      },
      "execution_count": 5,
      "outputs": []
    },
    {
      "cell_type": "code",
      "source": [
        "# 一阶谐波\n",
        "harmonicIndependents_1 = ee.List(['constant', 't', 'cos1', 'sin1'])\n",
        "\n",
        "def add_sincos_1(image):\n",
        "  timeRadians1 = image.select('t').multiply(2 * math.pi)\n",
        "  return image.addBands(timeRadians1.cos().rename('cos1')).addBands(timeRadians1.sin().rename('sin1'))\n",
        "\n",
        "harmonicSentinel_1 = dataset.map(add_sincos_1)\n",
        "\n",
        "harmonicTrend_1 = harmonicSentinel_1.select(harmonicIndependents_1.add(dependent)).reduce(ee.Reducer.linearRegression(numX=harmonicIndependents_1.length(),numY=1))\n",
        "\n",
        "harmonicTrendCoefficients_1 = harmonicTrend_1.select('coefficients').arrayProject([0]).arrayFlatten([harmonicIndependents_1])\n",
        "\n",
        "def fit_1(image):\n",
        "  return image.addBands(image.select(harmonicIndependents_1).multiply(harmonicTrendCoefficients_1).reduce('sum').rename('fitted'))\n",
        "\n",
        "fittedHarmonic_1 = harmonicSentinel_1.map(fit_1)"
      ],
      "metadata": {
        "id": "iA3jyOzsWWLU"
      },
      "execution_count": 6,
      "outputs": []
    },
    {
      "cell_type": "code",
      "source": [
        "composite1 = s2sr.filterBounds(roi).filterDate('2022-01-01','2023-11-24').linkCollection(csPlus,[QA_BAND]).map(cloud_remove)\n",
        "filteredSentinel1 = composite1.map(s2addVariables)\n",
        "dataset1 = filteredSentinel1.select(['NDVI','t','constant']);\n",
        "harmonicSentinel1 = dataset1.map(add_sincos_1)\n",
        "fittedHarmonic1 = harmonicSentinel1.map(fit_1)"
      ],
      "metadata": {
        "id": "SZzrXKaDMx_R",
        "outputId": "91aaa553-4463-47de-bc91-7eba8369df9b",
        "colab": {
          "base_uri": "https://localhost:8080/",
          "height": 17
        }
      },
      "execution_count": 30,
      "outputs": [
        {
          "output_type": "display_data",
          "data": {
            "text/plain": [
              "<IPython.core.display.HTML object>"
            ],
            "text/html": [
              "\n",
              "            <style>\n",
              "                .geemap-dark {\n",
              "                    --jp-widgets-color: white;\n",
              "                    --jp-widgets-label-color: white;\n",
              "                    --jp-ui-font-color1: white;\n",
              "                    --jp-layout-color2: #454545;\n",
              "                    background-color: #383838;\n",
              "                }\n",
              "                    \n",
              "                .geemap-dark .jupyter-button {\n",
              "                    --jp-layout-color3: #383838;\n",
              "                }\n",
              "                \n",
              "                .geemap-colab {\n",
              "                    background-color: var(--colab-primary-surface-color, white);\n",
              "                }\n",
              "                    \n",
              "                .geemap-colab .jupyter-button {\n",
              "                    --jp-layout-color3: var(--colab-primary-surface-color, white);\n",
              "                }\n",
              "            </style>\n",
              "            "
            ]
          },
          "metadata": {}
        }
      ]
    },
    {
      "cell_type": "code",
      "source": [
        "point = ee.Geometry.Point(103.83599109837463,30.889903252109654)"
      ],
      "metadata": {
        "id": "XO6ISOEOOqi0",
        "outputId": "381085f6-a112-468b-e165-68bd69995c30",
        "colab": {
          "base_uri": "https://localhost:8080/",
          "height": 17
        }
      },
      "execution_count": 31,
      "outputs": [
        {
          "output_type": "display_data",
          "data": {
            "text/plain": [
              "<IPython.core.display.HTML object>"
            ],
            "text/html": [
              "\n",
              "            <style>\n",
              "                .geemap-dark {\n",
              "                    --jp-widgets-color: white;\n",
              "                    --jp-widgets-label-color: white;\n",
              "                    --jp-ui-font-color1: white;\n",
              "                    --jp-layout-color2: #454545;\n",
              "                    background-color: #383838;\n",
              "                }\n",
              "                    \n",
              "                .geemap-dark .jupyter-button {\n",
              "                    --jp-layout-color3: #383838;\n",
              "                }\n",
              "                \n",
              "                .geemap-colab {\n",
              "                    background-color: var(--colab-primary-surface-color, white);\n",
              "                }\n",
              "                    \n",
              "                .geemap-colab .jupyter-button {\n",
              "                    --jp-layout-color3: var(--colab-primary-surface-color, white);\n",
              "                }\n",
              "            </style>\n",
              "            "
            ]
          },
          "metadata": {}
        }
      ]
    },
    {
      "cell_type": "code",
      "source": [
        "rTable = ee.FeatureCollection(fittedHarmonic1.filterBounds(point).map(lambda image: ee.Feature(\n",
        "    None,\n",
        "    {\n",
        "        'date': image.date().format('yyyy-MM-dd'),\n",
        "        'NDVI': image.reduceRegion(ee.Reducer.mean(), point, 10).get(\"NDVI\"),\n",
        "        'fitted': image.reduceRegion(ee.Reducer.mean(), point, 10).get(\"fitted\")\n",
        "    }\n",
        ")))\n",
        "\n",
        "rTable_dict = rTable.getInfo()\n",
        "\n",
        "dates = [feat['properties']['date'] for feat in rTable_dict['features']]\n",
        "ndvi_values = [feat['properties']['NDVI'] for feat in rTable_dict['features']]\n",
        "fitted_values = [feat['properties']['fitted'] for feat in rTable_dict['features']]\n",
        "\n",
        "df = pd.DataFrame({'Date': dates, 'NDVI': ndvi_values, 'Fitted': fitted_values})\n",
        "\n",
        "df = df.dropna()\n",
        "\n",
        "if not df.empty:\n",
        "    df['Date'] = pd.to_datetime(df['Date'])\n",
        "\n",
        "    train_df = df[df['Date'] < '2023-05-01']\n",
        "    valid_df = df[df['Date'] >= '2023-05-01']\n",
        "\n",
        "    print(train_df)\n",
        "    print(valid_df)"
      ],
      "metadata": {
        "id": "YK_eo_dwO2Lm",
        "outputId": "96453203-825e-4e5e-f620-b4f0dbf668a9",
        "colab": {
          "base_uri": "https://localhost:8080/",
          "height": 920
        }
      },
      "execution_count": 32,
      "outputs": [
        {
          "output_type": "display_data",
          "data": {
            "text/plain": [
              "<IPython.core.display.HTML object>"
            ],
            "text/html": [
              "\n",
              "            <style>\n",
              "                .geemap-dark {\n",
              "                    --jp-widgets-color: white;\n",
              "                    --jp-widgets-label-color: white;\n",
              "                    --jp-ui-font-color1: white;\n",
              "                    --jp-layout-color2: #454545;\n",
              "                    background-color: #383838;\n",
              "                }\n",
              "                    \n",
              "                .geemap-dark .jupyter-button {\n",
              "                    --jp-layout-color3: #383838;\n",
              "                }\n",
              "                \n",
              "                .geemap-colab {\n",
              "                    background-color: var(--colab-primary-surface-color, white);\n",
              "                }\n",
              "                    \n",
              "                .geemap-colab .jupyter-button {\n",
              "                    --jp-layout-color3: var(--colab-primary-surface-color, white);\n",
              "                }\n",
              "            </style>\n",
              "            "
            ]
          },
          "metadata": {}
        },
        {
          "output_type": "stream",
          "name": "stdout",
          "text": [
            "          Date      NDVI    Fitted\n",
            "6   2022-01-16  0.453834  0.517946\n",
            "18  2022-02-13  0.656015  0.547797\n",
            "19  2022-02-15  0.565598  0.551148\n",
            "26  2022-03-05  0.425886  0.587509\n",
            "27  2022-03-07  0.541234  0.592121\n",
            "28  2022-03-10  0.527651  0.599259\n",
            "30  2022-03-15  0.510917  0.611570\n",
            "31  2022-03-17  0.744119  0.616617\n",
            "40  2022-04-09  0.831850  0.678319\n",
            "45  2022-04-21  0.775561  0.710964\n",
            "47  2022-04-26  0.832498  0.724218\n",
            "50  2022-05-04  0.697603  0.744667\n",
            "53  2022-05-11  0.836373  0.761483\n",
            "55  2022-05-16  0.809823  0.772767\n",
            "72  2022-06-28  0.787908  0.833558\n",
            "73  2022-06-30  0.797773  0.834481\n",
            "75  2022-07-05  0.806576  0.835987\n",
            "76  2022-07-08  0.705711  0.836330\n",
            "83  2022-07-25  0.750122  0.830344\n",
            "84  2022-07-28  0.878596  0.827909\n",
            "89  2022-08-09  0.841102  0.814295\n",
            "90  2022-08-12  0.911660  0.809952\n",
            "94  2022-08-22  0.646180  0.793048\n",
            "116 2022-10-16  0.750000  0.657711\n",
            "131 2022-11-22  0.622170  0.569615\n",
            "141 2022-12-17  0.598784  0.533167\n",
            "149 2023-01-06  0.586964  0.523260\n",
            "154 2023-01-19  0.530298  0.526793\n",
            "158 2023-01-29  0.558589  0.534792\n",
            "159 2023-01-31  0.412524  0.536915\n",
            "171 2023-03-05  0.465431  0.594393\n",
            "172 2023-03-05  0.500343  0.594393\n",
            "187 2023-04-11  0.747518  0.690562\n",
            "192 2023-04-26  0.774354  0.731020\n",
            "193 2023-04-29  0.782178  0.738837\n",
            "          Date      NDVI    Fitted\n",
            "195 2023-05-04  0.803521  0.751502\n",
            "220 2023-07-05  0.802733  0.843378\n",
            "221 2023-07-08  0.696868  0.843755\n",
            "225 2023-07-18  0.751061  0.841965\n",
            "229 2023-07-28  0.859964  0.835558\n",
            "230 2023-07-30  0.820895  0.833743\n",
            "233 2023-08-07  0.781705  0.824727\n",
            "241 2023-08-27  0.869022  0.791228\n",
            "244 2023-09-03  0.737480  0.776363\n",
            "248 2023-09-13  0.788050  0.752908\n",
            "263 2023-10-21  0.738472  0.652497\n",
            "266 2023-10-28  0.566316  0.634352\n",
            "269 2023-11-05  0.792764  0.614537\n",
            "270 2023-11-07  0.679277  0.609808\n",
            "276 2023-11-22  0.711823  0.577519\n"
          ]
        }
      ]
    }
  ]
}