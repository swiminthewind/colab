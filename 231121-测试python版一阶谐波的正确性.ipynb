{
  "nbformat": 4,
  "nbformat_minor": 0,
  "metadata": {
    "colab": {
      "provenance": [],
      "authorship_tag": "ABX9TyNyJ6Jl5faS9KdFM274GC/n",
      "include_colab_link": true
    },
    "kernelspec": {
      "name": "python3",
      "display_name": "Python 3"
    },
    "language_info": {
      "name": "python"
    }
  },
  "cells": [
    {
      "cell_type": "markdown",
      "metadata": {
        "id": "view-in-github",
        "colab_type": "text"
      },
      "source": [
        "<a href=\"https://colab.research.google.com/github/swiminthewind/colab/blob/main/231121-%E6%B5%8B%E8%AF%95python%E7%89%88%E4%B8%80%E9%98%B6%E8%B0%90%E6%B3%A2%E7%9A%84%E6%AD%A3%E7%A1%AE%E6%80%A7.ipynb\" target=\"_parent\"><img src=\"https://colab.research.google.com/assets/colab-badge.svg\" alt=\"Open In Colab\"/></a>"
      ]
    },
    {
      "cell_type": "code",
      "execution_count": null,
      "metadata": {
        "id": "wYxVvpQNbwZN"
      },
      "outputs": [],
      "source": [
        "import ee\n",
        "ee.Authenticate()\n",
        "ee.Initialize()"
      ]
    },
    {
      "cell_type": "code",
      "source": [
        "import pandas as pd\n",
        "import math\n",
        "from sklearn.metrics import mean_squared_error, mean_absolute_error, r2_score\n",
        "import numpy as np"
      ],
      "metadata": {
        "id": "ZIX_S61Ob4wM"
      },
      "execution_count": 2,
      "outputs": []
    },
    {
      "cell_type": "code",
      "source": [
        "roi = ee.FeatureCollection(\"projects/ee-grn/assets/cd_plain_cd\")\n",
        "csPlus= ee.ImageCollection(\"GOOGLE/CLOUD_SCORE_PLUS/V1/S2_HARMONIZED\")\n",
        "s2sr = ee.ImageCollection(\"COPERNICUS/S2_SR_HARMONIZED\")"
      ],
      "metadata": {
        "id": "0htglBPBb67W"
      },
      "execution_count": 3,
      "outputs": []
    },
    {
      "cell_type": "code",
      "source": [
        "timeField = 'system:time_start'\n",
        "QA_BAND = 'cs'\n",
        "CLEAR_THRESHOLD = 0.6\n",
        "\n",
        "def cloud_remove(img):\n",
        "    return img.updateMask(img.select(QA_BAND).gte(CLEAR_THRESHOLD)).select('.*').copyProperties(img, ['system:time_start'])\n",
        "\n",
        "composite = s2sr.filterBounds(roi).filterDate('2022-01-01','2023-11-21').linkCollection(csPlus,[QA_BAND]).map(cloud_remove)\n",
        "\n",
        "def s2addVariables(image):\n",
        "  date = ee.Date(image.get(timeField))\n",
        "  years = date.difference(ee.Date('1970-01-01'), 'year')\n",
        "  return image.addBands(image.normalizedDifference(['B8', 'B4']).rename('NDVI')).addBands(ee.Image(years).rename('t')).float().addBands(ee.Image.constant(1))\n",
        "\n",
        "filteredSentinel = composite.map(s2addVariables)\n",
        "print(filteredSentinel.size().getInfo())"
      ],
      "metadata": {
        "colab": {
          "base_uri": "https://localhost:8080/"
        },
        "id": "fkN0Dx2Xb8cF",
        "outputId": "af160346-5e29-4508-e076-745c6ac915c3"
      },
      "execution_count": 4,
      "outputs": [
        {
          "output_type": "stream",
          "name": "stdout",
          "text": [
            "1245\n"
          ]
        }
      ]
    },
    {
      "cell_type": "code",
      "source": [
        "dataset = filteredSentinel.select(['NDVI','t','constant'])\n",
        "independents = ee.List(['constant', 't'])\n",
        "dependent = ee.String('NDVI')"
      ],
      "metadata": {
        "id": "S1SVlkEYb9p5"
      },
      "execution_count": 5,
      "outputs": []
    },
    {
      "cell_type": "code",
      "source": [
        "# 一阶谐波\n",
        "harmonicIndependents_1 = ee.List(['constant', 't', 'cos1', 'sin1'])\n",
        "\n",
        "def add_sincos_1(image):\n",
        "  timeRadians1 = image.select('t').multiply(2 * math.pi)\n",
        "  return image.addBands(timeRadians1.cos().rename('cos1')).addBands(timeRadians1.sin().rename('sin1'))\n",
        "\n",
        "harmonicSentinel_1 = dataset.map(add_sincos_1)\n",
        "\n",
        "harmonicTrend_1 = harmonicSentinel_1.select(harmonicIndependents_1.add(dependent)).reduce(ee.Reducer.linearRegression(numX=harmonicIndependents_1.length(),numY=1))\n",
        "\n",
        "harmonicTrendCoefficients_1 = harmonicTrend_1.select('coefficients').arrayProject([0]).arrayFlatten([harmonicIndependents_1])\n",
        "\n",
        "def fit_1(image):\n",
        "  return image.addBands(image.select(harmonicIndependents_1).multiply(harmonicTrendCoefficients_1).reduce('sum').rename('fitted'))\n",
        "\n",
        "fittedHarmonic_1 = harmonicSentinel_1.map(fit_1)"
      ],
      "metadata": {
        "id": "pExD2ygtcCRD"
      },
      "execution_count": 6,
      "outputs": []
    },
    {
      "cell_type": "code",
      "source": [
        "point = ee.Geometry.Point(103.69442853431933, 30.551562081391808)\n",
        "\n",
        "rTable = ee.FeatureCollection(fittedHarmonic_1.filterBounds(point).map(lambda image: ee.Feature(\n",
        "    None,\n",
        "    {\n",
        "        'date': image.date().format('yyyy-MM-dd'),\n",
        "        'NDVI': image.reduceRegion(ee.Reducer.mean(), point, 10).get(\"NDVI\"),\n",
        "        'fitted': image.reduceRegion(ee.Reducer.mean(), point, 10).get(\"fitted\")\n",
        "    }\n",
        ")))\n",
        "\n",
        "rTable_dict = rTable.getInfo()\n",
        "\n",
        "dates = [feat['properties']['date'] for feat in rTable_dict['features']]\n",
        "ndvi_values = [feat['properties']['NDVI'] for feat in rTable_dict['features']]\n",
        "fitted_values = [feat['properties']['fitted'] for feat in rTable_dict['features']]\n",
        "\n",
        "df = pd.DataFrame({'Date': dates, 'NDVI': ndvi_values, 'Fitted': fitted_values})\n",
        "\n",
        "df = df.dropna()\n",
        "\n",
        "print(df)"
      ],
      "metadata": {
        "colab": {
          "base_uri": "https://localhost:8080/"
        },
        "id": "YQoY2rzicglV",
        "outputId": "cff55e04-fe1b-4a34-b8f4-2be4f4a83fba"
      },
      "execution_count": 7,
      "outputs": [
        {
          "output_type": "stream",
          "name": "stdout",
          "text": [
            "           Date      NDVI    Fitted\n",
            "0    2022-01-01  0.480345  0.575376\n",
            "11   2022-01-29  0.638256  0.549029\n",
            "17   2022-02-13  0.727610  0.541487\n",
            "25   2022-03-05  0.589392  0.539443\n",
            "26   2022-03-07  0.687620  0.539744\n",
            "27   2022-03-10  0.715548  0.540369\n",
            "29   2022-03-15  0.706660  0.541852\n",
            "30   2022-03-17  0.713792  0.542595\n",
            "39   2022-04-09  0.631566  0.556933\n",
            "43   2022-04-19  0.521598  0.566016\n",
            "44   2022-04-21  0.573421  0.567993\n",
            "46   2022-04-26  0.480552  0.573165\n",
            "49   2022-05-04  0.220395  0.581987\n",
            "51   2022-05-09  0.178203  0.587760\n",
            "54   2022-05-16  0.197687  0.596071\n",
            "71   2022-06-28  0.618742  0.645463\n",
            "74   2022-07-05  0.619651  0.651947\n",
            "75   2022-07-08  0.668581  0.654510\n",
            "81   2022-07-23  0.735616  0.664954\n",
            "82   2022-07-25  0.686726  0.666019\n",
            "83   2022-07-28  0.771458  0.667474\n",
            "87   2022-08-07  0.763696  0.670929\n",
            "88   2022-08-09  0.751144  0.671355\n",
            "89   2022-08-12  0.808487  0.671827\n",
            "93   2022-08-22  0.608793  0.671907\n",
            "99   2022-09-06  0.694187  0.667689\n",
            "117  2022-10-21  0.278708  0.626942\n",
            "118  2022-10-23  0.315167  0.624365\n",
            "130  2022-11-22  0.557020  0.581660\n",
            "140  2022-12-17  0.687886  0.545485\n",
            "148  2023-01-06  0.592233  0.520499\n",
            "153  2023-01-19  0.590771  0.507535\n",
            "157  2023-01-29  0.653929  0.499767\n",
            "170  2023-03-05  0.644836  0.489988\n",
            "179  2023-03-27  0.690342  0.498008\n",
            "184  2023-04-09  0.527609  0.507307\n",
            "185  2023-04-11  0.522106  0.508989\n",
            "187  2023-04-19  0.494830  0.516354\n",
            "191  2023-04-29  0.326017  0.526718\n",
            "193  2023-05-04  0.237905  0.532287\n",
            "198  2023-05-16  0.148362  0.546355\n",
            "213  2023-06-23  0.640330  0.590748\n",
            "218  2023-07-05  0.724054  0.602310\n",
            "219  2023-07-08  0.789816  0.604884\n",
            "223  2023-07-18  0.767826  0.612350\n",
            "225  2023-07-23  0.754725  0.615394\n",
            "227  2023-07-28  0.855568  0.617939\n",
            "231  2023-08-07  0.814029  0.621447\n",
            "234  2023-08-14  0.718354  0.622583\n",
            "239  2023-08-27  0.800524  0.621707\n",
            "242  2023-09-03  0.733998  0.619617\n",
            "243  2023-09-03  0.660409  0.619617\n",
            "247  2023-09-13  0.529412  0.614695\n",
            "248  2023-09-13  0.577901  0.614695\n",
            "263  2023-10-21  0.314508  0.577827\n",
            "269  2023-11-05  0.352727  0.557471\n",
            "270  2023-11-07  0.312435  0.554622\n"
          ]
        }
      ]
    }
  ]
}